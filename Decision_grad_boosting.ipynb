{
  "nbformat": 4,
  "nbformat_minor": 0,
  "metadata": {
    "kernelspec": {
      "display_name": "Python 3",
      "language": "python",
      "name": "python3"
    },
    "language_info": {
      "codemirror_mode": {
        "name": "ipython",
        "version": 3
      },
      "file_extension": ".py",
      "mimetype": "text/x-python",
      "name": "python",
      "nbconvert_exporter": "python",
      "pygments_lexer": "ipython3",
      "version": "3.6.8"
    },
    "colab": {
      "name": "Decision_grad_boosting.ipynb",
      "provenance": [],
      "collapsed_sections": [],
      "include_colab_link": true
    }
  },
  "cells": [
    {
      "cell_type": "markdown",
      "metadata": {
        "id": "view-in-github",
        "colab_type": "text"
      },
      "source": [
        "<a href=\"https://colab.research.google.com/github/KonstantinSV/-Gradient-boosting/blob/main/Decision_grad_boosting.ipynb\" target=\"_parent\"><img src=\"https://colab.research.google.com/assets/colab-badge.svg\" alt=\"Open In Colab\"/></a>"
      ]
    },
    {
      "cell_type": "markdown",
      "metadata": {
        "id": "9ajUtdTxDRBq"
      },
      "source": [
        "# Градиентный бустинг своими руками\n",
        "\n",
        "**Внимание:** в тексте задания произошли изменения - поменялось число деревьев (теперь 50), правило изменения величины шага в задании 3 и добавился параметр `random_state` у решающего дерева. Правильные ответы не поменялись, но теперь их проще получить. Также исправлена опечатка в функции `gbm_predict`.\n",
        "\n",
        "В этом задании будет использоваться датасет `boston` из `sklearn.datasets`. Оставьте последние 25% объектов для контроля качества, разделив `X` и `y` на `X_train`, `y_train` и `X_test`, `y_test`.\n",
        "\n",
        "Целью задания будет реализовать простой вариант градиентного бустинга над регрессионными деревьями для случая квадратичной функции потерь."
      ]
    },
    {
      "cell_type": "code",
      "metadata": {
        "id": "tEwJOeTjDRBs"
      },
      "source": [
        "from sklearn import model_selection, datasets, metrics, tree, ensemble\n",
        "import xgboost as xgb\n",
        "import numpy as np\n",
        "import pandas as pd\n",
        "from matplotlib import pyplot as plt"
      ],
      "execution_count": null,
      "outputs": []
    },
    {
      "cell_type": "code",
      "metadata": {
        "id": "vKp1Hd8tD1w1"
      },
      "source": [
        " boston = datasets.load_boston()"
      ],
      "execution_count": null,
      "outputs": []
    },
    {
      "cell_type": "code",
      "metadata": {
        "id": "i7soBlTKL6tn",
        "colab": {
          "base_uri": "https://localhost:8080/"
        },
        "outputId": "dfd995d5-09d3-4057-e25b-17da11b1f917"
      },
      "source": [
        "boston.keys()"
      ],
      "execution_count": null,
      "outputs": [
        {
          "output_type": "execute_result",
          "data": {
            "text/plain": [
              "dict_keys(['data', 'target', 'feature_names', 'DESCR', 'filename'])"
            ]
          },
          "metadata": {
            "tags": []
          },
          "execution_count": 29
        }
      ]
    },
    {
      "cell_type": "code",
      "metadata": {
        "id": "Gx7gcR3xM-R7",
        "colab": {
          "base_uri": "https://localhost:8080/"
        },
        "outputId": "bedb5d90-571e-4058-90dd-10f7c70a6384"
      },
      "source": [
        "print(f\"feature names: {boston.feature_names}\")\n",
        "print(f\"target: {boston.target}\")"
      ],
      "execution_count": null,
      "outputs": [
        {
          "output_type": "stream",
          "text": [
            "feature names: ['CRIM' 'ZN' 'INDUS' 'CHAS' 'NOX' 'RM' 'AGE' 'DIS' 'RAD' 'TAX' 'PTRATIO'\n",
            " 'B' 'LSTAT']\n",
            "target: [24.  21.6 34.7 33.4 36.2 28.7 22.9 27.1 16.5 18.9 15.  18.9 21.7 20.4\n",
            " 18.2 19.9 23.1 17.5 20.2 18.2 13.6 19.6 15.2 14.5 15.6 13.9 16.6 14.8\n",
            " 18.4 21.  12.7 14.5 13.2 13.1 13.5 18.9 20.  21.  24.7 30.8 34.9 26.6\n",
            " 25.3 24.7 21.2 19.3 20.  16.6 14.4 19.4 19.7 20.5 25.  23.4 18.9 35.4\n",
            " 24.7 31.6 23.3 19.6 18.7 16.  22.2 25.  33.  23.5 19.4 22.  17.4 20.9\n",
            " 24.2 21.7 22.8 23.4 24.1 21.4 20.  20.8 21.2 20.3 28.  23.9 24.8 22.9\n",
            " 23.9 26.6 22.5 22.2 23.6 28.7 22.6 22.  22.9 25.  20.6 28.4 21.4 38.7\n",
            " 43.8 33.2 27.5 26.5 18.6 19.3 20.1 19.5 19.5 20.4 19.8 19.4 21.7 22.8\n",
            " 18.8 18.7 18.5 18.3 21.2 19.2 20.4 19.3 22.  20.3 20.5 17.3 18.8 21.4\n",
            " 15.7 16.2 18.  14.3 19.2 19.6 23.  18.4 15.6 18.1 17.4 17.1 13.3 17.8\n",
            " 14.  14.4 13.4 15.6 11.8 13.8 15.6 14.6 17.8 15.4 21.5 19.6 15.3 19.4\n",
            " 17.  15.6 13.1 41.3 24.3 23.3 27.  50.  50.  50.  22.7 25.  50.  23.8\n",
            " 23.8 22.3 17.4 19.1 23.1 23.6 22.6 29.4 23.2 24.6 29.9 37.2 39.8 36.2\n",
            " 37.9 32.5 26.4 29.6 50.  32.  29.8 34.9 37.  30.5 36.4 31.1 29.1 50.\n",
            " 33.3 30.3 34.6 34.9 32.9 24.1 42.3 48.5 50.  22.6 24.4 22.5 24.4 20.\n",
            " 21.7 19.3 22.4 28.1 23.7 25.  23.3 28.7 21.5 23.  26.7 21.7 27.5 30.1\n",
            " 44.8 50.  37.6 31.6 46.7 31.5 24.3 31.7 41.7 48.3 29.  24.  25.1 31.5\n",
            " 23.7 23.3 22.  20.1 22.2 23.7 17.6 18.5 24.3 20.5 24.5 26.2 24.4 24.8\n",
            " 29.6 42.8 21.9 20.9 44.  50.  36.  30.1 33.8 43.1 48.8 31.  36.5 22.8\n",
            " 30.7 50.  43.5 20.7 21.1 25.2 24.4 35.2 32.4 32.  33.2 33.1 29.1 35.1\n",
            " 45.4 35.4 46.  50.  32.2 22.  20.1 23.2 22.3 24.8 28.5 37.3 27.9 23.9\n",
            " 21.7 28.6 27.1 20.3 22.5 29.  24.8 22.  26.4 33.1 36.1 28.4 33.4 28.2\n",
            " 22.8 20.3 16.1 22.1 19.4 21.6 23.8 16.2 17.8 19.8 23.1 21.  23.8 23.1\n",
            " 20.4 18.5 25.  24.6 23.  22.2 19.3 22.6 19.8 17.1 19.4 22.2 20.7 21.1\n",
            " 19.5 18.5 20.6 19.  18.7 32.7 16.5 23.9 31.2 17.5 17.2 23.1 24.5 26.6\n",
            " 22.9 24.1 18.6 30.1 18.2 20.6 17.8 21.7 22.7 22.6 25.  19.9 20.8 16.8\n",
            " 21.9 27.5 21.9 23.1 50.  50.  50.  50.  50.  13.8 13.8 15.  13.9 13.3\n",
            " 13.1 10.2 10.4 10.9 11.3 12.3  8.8  7.2 10.5  7.4 10.2 11.5 15.1 23.2\n",
            "  9.7 13.8 12.7 13.1 12.5  8.5  5.   6.3  5.6  7.2 12.1  8.3  8.5  5.\n",
            " 11.9 27.9 17.2 27.5 15.  17.2 17.9 16.3  7.   7.2  7.5 10.4  8.8  8.4\n",
            " 16.7 14.2 20.8 13.4 11.7  8.3 10.2 10.9 11.   9.5 14.5 14.1 16.1 14.3\n",
            " 11.7 13.4  9.6  8.7  8.4 12.8 10.5 17.1 18.4 15.4 10.8 11.8 14.9 12.6\n",
            " 14.1 13.  13.4 15.2 16.1 17.8 14.9 14.1 12.7 13.5 14.9 20.  16.4 17.7\n",
            " 19.5 20.2 21.4 19.9 19.  19.1 19.1 20.1 19.9 19.6 23.2 29.8 13.8 13.3\n",
            " 16.7 12.  14.6 21.4 23.  23.7 25.  21.8 20.6 21.2 19.1 20.6 15.2  7.\n",
            "  8.1 13.6 20.1 21.8 24.5 23.1 19.7 18.3 21.2 17.5 16.8 22.4 20.6 23.9\n",
            " 22.  11.9]\n"
          ],
          "name": "stdout"
        }
      ]
    },
    {
      "cell_type": "code",
      "metadata": {
        "id": "9fTy6Z1AM76r",
        "colab": {
          "base_uri": "https://localhost:8080/"
        },
        "outputId": "1382ae0b-c107-4baf-af28-b555c9b655da"
      },
      "source": [
        "print(boston.DESCR)"
      ],
      "execution_count": null,
      "outputs": [
        {
          "output_type": "stream",
          "text": [
            ".. _boston_dataset:\n",
            "\n",
            "Boston house prices dataset\n",
            "---------------------------\n",
            "\n",
            "**Data Set Characteristics:**  \n",
            "\n",
            "    :Number of Instances: 506 \n",
            "\n",
            "    :Number of Attributes: 13 numeric/categorical predictive. Median Value (attribute 14) is usually the target.\n",
            "\n",
            "    :Attribute Information (in order):\n",
            "        - CRIM     per capita crime rate by town\n",
            "        - ZN       proportion of residential land zoned for lots over 25,000 sq.ft.\n",
            "        - INDUS    proportion of non-retail business acres per town\n",
            "        - CHAS     Charles River dummy variable (= 1 if tract bounds river; 0 otherwise)\n",
            "        - NOX      nitric oxides concentration (parts per 10 million)\n",
            "        - RM       average number of rooms per dwelling\n",
            "        - AGE      proportion of owner-occupied units built prior to 1940\n",
            "        - DIS      weighted distances to five Boston employment centres\n",
            "        - RAD      index of accessibility to radial highways\n",
            "        - TAX      full-value property-tax rate per $10,000\n",
            "        - PTRATIO  pupil-teacher ratio by town\n",
            "        - B        1000(Bk - 0.63)^2 where Bk is the proportion of blacks by town\n",
            "        - LSTAT    % lower status of the population\n",
            "        - MEDV     Median value of owner-occupied homes in $1000's\n",
            "\n",
            "    :Missing Attribute Values: None\n",
            "\n",
            "    :Creator: Harrison, D. and Rubinfeld, D.L.\n",
            "\n",
            "This is a copy of UCI ML housing dataset.\n",
            "https://archive.ics.uci.edu/ml/machine-learning-databases/housing/\n",
            "\n",
            "\n",
            "This dataset was taken from the StatLib library which is maintained at Carnegie Mellon University.\n",
            "\n",
            "The Boston house-price data of Harrison, D. and Rubinfeld, D.L. 'Hedonic\n",
            "prices and the demand for clean air', J. Environ. Economics & Management,\n",
            "vol.5, 81-102, 1978.   Used in Belsley, Kuh & Welsch, 'Regression diagnostics\n",
            "...', Wiley, 1980.   N.B. Various transformations are used in the table on\n",
            "pages 244-261 of the latter.\n",
            "\n",
            "The Boston house-price data has been used in many machine learning papers that address regression\n",
            "problems.   \n",
            "     \n",
            ".. topic:: References\n",
            "\n",
            "   - Belsley, Kuh & Welsch, 'Regression diagnostics: Identifying Influential Data and Sources of Collinearity', Wiley, 1980. 244-261.\n",
            "   - Quinlan,R. (1993). Combining Instance-Based and Model-Based Learning. In Proceedings on the Tenth International Conference of Machine Learning, 236-243, University of Massachusetts, Amherst. Morgan Kaufmann.\n",
            "\n"
          ],
          "name": "stdout"
        }
      ]
    },
    {
      "cell_type": "code",
      "metadata": {
        "id": "LUFKHPleFO87"
      },
      "source": [
        "X_train, X_test, y_train, y_test = model_selection.train_test_split(boston.data, boston.target, test_size = 0.25, random_state = 0)"
      ],
      "execution_count": null,
      "outputs": []
    },
    {
      "cell_type": "markdown",
      "metadata": {
        "id": "C53V3WbHDRBw"
      },
      "source": [
        "## Задание 1\n",
        "\n",
        "Как вы уже знаете из лекций, **бустинг** - это метод построения композиций базовых алгоритмов с помощью последовательного добавления к текущей композиции нового алгоритма с некоторым коэффициентом. \n",
        "\n",
        "Градиентный бустинг обучает каждый новый алгоритм так, чтобы он приближал антиградиент ошибки по ответам композиции на обучающей выборке. Аналогично минимизации функций методом градиентного спуска, в градиентном бустинге мы подправляем композицию, изменяя алгоритм в направлении антиградиента ошибки.\n",
        "\n",
        "Воспользуйтесь формулой из лекций, задающей ответы на обучающей выборке, на которые нужно обучать новый алгоритм (фактически это лишь чуть более подробно расписанный градиент от ошибки), и получите частный ее случай, если функция потерь `L` - квадрат отклонения ответа композиции `a(x)` от правильного ответа `y` на данном `x`.\n",
        "\n",
        "Если вы давно не считали производную самостоятельно, вам поможет таблица производных элементарных функций (которую несложно найти в интернете) и правило дифференцирования сложной функции. После дифференцирования квадрата у вас возникнет множитель 2 — т.к. нам все равно предстоит выбирать коэффициент, с которым будет добавлен новый базовый алгоритм, проигноируйте этот множитель при дальнейшем построении алгоритма."
      ]
    },
    {
      "cell_type": "markdown",
      "metadata": {
        "id": "8DPiLPH6jgXp"
      },
      "source": [
        "L = (a(x)-y)"
      ]
    },
    {
      "cell_type": "markdown",
      "metadata": {
        "id": "PlJeHbDUDRB0"
      },
      "source": [
        "## Задание 2\n",
        "\n",
        "Заведите массив для объектов `DecisionTreeRegressor` (будем их использовать в качестве базовых алгоритмов) и для вещественных чисел (это будут коэффициенты перед базовыми алгоритмами). \n",
        "\n",
        "В цикле от обучите последовательно 50 решающих деревьев с параметрами `max_depth=5` и `random_state=42` (остальные параметры - по умолчанию). В бустинге зачастую используются сотни и тысячи деревьев, но мы ограничимся 50, чтобы алгоритм работал быстрее, и его было проще отлаживать (т.к. цель задания разобраться, как работает метод). Каждое дерево должно обучаться на одном и том же множестве объектов, но ответы, которые учится прогнозировать дерево, будут меняться в соответствие с полученным в задании 1 правилом. \n",
        "\n",
        "Попробуйте для начала всегда брать коэффициент равным 0.9. Обычно оправдано выбирать коэффициент значительно меньшим - порядка 0.05 или 0.1, но т.к. в нашем учебном примере на стандартном датасете будет всего 50 деревьев, возьмем для начала шаг побольше.\n",
        "\n",
        "В процессе реализации обучения вам потребуется функция, которая будет вычислять прогноз построенной на данный момент композиции деревьев на выборке `X`:\n",
        "\n",
        "```\n",
        "def gbm_predict(X):\n",
        "    return [sum([coeff * algo.predict([x])[0] for algo, coeff in zip(base_algorithms_list, coefficients_list)]) for x in X]\n",
        "(считаем, что base_algorithms_list - список с базовыми алгоритмами, coefficients_list - список с коэффициентами перед алгоритмами)\n",
        "```\n",
        "\n",
        "Эта же функция поможет вам получить прогноз на контрольной выборке и оценить качество работы вашего алгоритма с помощью `mean_squared_error` в `sklearn.metrics`. \n",
        "\n",
        "Возведите результат в степень 0.5, чтобы получить `RMSE`. Полученное значение `RMSE` — **ответ в пункте 2**."
      ]
    },
    {
      "cell_type": "code",
      "metadata": {
        "id": "LV9a5UEfbKc-"
      },
      "source": [
        "def gbm_predict(X):\n",
        "    return [sum([coeff * algo.predict([x])[0] for algo, coeff in zip(basics, ws)]) for x in X] # предсказаниz на обучающей выборке (столько же сколько объектов в выборке) умноженная на коэффициент (0,9 в соответствии с заданием) на одном заданном дереве. sum делает из списка списков один список."
      ],
      "execution_count": null,
      "outputs": []
    },
    {
      "cell_type": "code",
      "metadata": {
        "id": "tbMfKHW3a0Jo"
      },
      "source": [
        "basics = []\n",
        "ws = []\n",
        "test_scores = []\n",
        "train_scores = []\n",
        "y_cur = np.array(y_train)\n",
        "for i in range(50): # 50 деревьев\n",
        "    regr = tree.DecisionTreeRegressor(max_depth=5, random_state=42).fit(X_train, y_cur) # каждое дерево глубиной 5 и random_state=42. Каждый цикл ответы подправляются на антиградиент (от истинных ответов вычитаем прогнозы базовых алгоритмов). Кроме первого цикла, он учится на y_train\n",
        "    basics.append(regr) # добавляем в список basics базовые алгоритмы (деревья)\n",
        "    ws.append(0.9) # коэффициент coeff\n",
        "    y_cur = y_train - gbm_predict(X_train) # градиентный бустинг - подправляем прогноз композици деревьев построенный на данный момент, изменяя алгоритм в направлении антиградиента ошибки (от истинных ответов вычитаем прогнозы базовых алгоритмов)\n",
        "    test_scores.append(metrics.mean_squared_error(y_test, gbm_predict(X_test))) # качество работы алгоритма способом средней квадратичной ошибки на тестовой выборке\n",
        "    train_scores.append(metrics.mean_squared_error(y_train, gbm_predict(X_train))) # качество работы алгоритма способом средней квадратичной ошибки на обучающей выборке"
      ],
      "execution_count": null,
      "outputs": []
    },
    {
      "cell_type": "code",
      "metadata": {
        "id": "YzZyyv68a4Yj",
        "colab": {
          "base_uri": "https://localhost:8080/"
        },
        "outputId": "d9784768-f75a-422d-ebc0-10d28d2edd0a"
      },
      "source": [
        "gbm_predict(X_test[:5]) # прогноз на контрольной выборке"
      ],
      "execution_count": null,
      "outputs": [
        {
          "output_type": "execute_result",
          "data": {
            "text/plain": [
              "[22.587069548493318,\n",
              " 18.43462692749077,\n",
              " 27.066811092875717,\n",
              " 10.621170549881013,\n",
              " 20.41735383654925]"
            ]
          },
          "metadata": {
            "tags": []
          },
          "execution_count": 35
        }
      ]
    },
    {
      "cell_type": "code",
      "metadata": {
        "id": "skh2BWsWEh_h",
        "colab": {
          "base_uri": "https://localhost:8080/"
        },
        "outputId": "5e4cb9cc-85a2-40b9-b573-19ffe88c72c5"
      },
      "source": [
        "np.sqrt(metrics.mean_squared_error(y_test, gbm_predict(X_test))) # качество работы алгоритма способом средней квадратичной ошибки на тестовой выборке в степени 0.5"
      ],
      "execution_count": null,
      "outputs": [
        {
          "output_type": "execute_result",
          "data": {
            "text/plain": [
              "5.204116464919525"
            ]
          },
          "metadata": {
            "tags": []
          },
          "execution_count": 36
        }
      ]
    },
    {
      "cell_type": "code",
      "metadata": {
        "id": "BkFlE8zzGOt3",
        "colab": {
          "base_uri": "https://localhost:8080/"
        },
        "outputId": "668a3b65-878a-4fba-e37a-fbb15750e2f7"
      },
      "source": [
        "np.sqrt(metrics.mean_squared_error(y_train, gbm_predict(X_train))) # качество работы алгоритма способом средней квадратичной ошибки на обучающей выборке в степени 0.5"
      ],
      "execution_count": null,
      "outputs": [
        {
          "output_type": "execute_result",
          "data": {
            "text/plain": [
              "0.004835403646824098"
            ]
          },
          "metadata": {
            "tags": []
          },
          "execution_count": 37
        }
      ]
    },
    {
      "cell_type": "code",
      "metadata": {
        "id": "GpJP0_CUFD7n",
        "colab": {
          "base_uri": "https://localhost:8080/",
          "height": 312
        },
        "outputId": "0e30ca0b-b79b-4073-b367-036db87ab09d"
      },
      "source": [
        "plt.plot(np.arange(1, 51, 1), test_scores, color = 'r')\n",
        "plt.plot(np.arange(1, 51, 1), train_scores, color = 'b')\n",
        "plt.title('Gradient Boosting MSE')\n",
        "plt.xlabel('number of trees')\n",
        "plt.ylabel('MSE')"
      ],
      "execution_count": null,
      "outputs": [
        {
          "output_type": "execute_result",
          "data": {
            "text/plain": [
              "Text(0, 0.5, 'MSE')"
            ]
          },
          "metadata": {
            "tags": []
          },
          "execution_count": 38
        },
        {
          "output_type": "display_data",
          "data": {
            "image/png": "[encoded data removed]",
            "text/plain": [
              "<Figure size 432x288 with 1 Axes>"
            ]
          },
          "metadata": {
            "tags": [],
            "needs_background": "light"
          }
        }
      ]
    },
    {
      "cell_type": "markdown",
      "metadata": {
        "id": "oNOOTBMNDRB4"
      },
      "source": [
        "## Задание 3\n",
        "\n",
        "Вас может также беспокоить, что двигаясь с постоянным шагом, вблизи минимума ошибки ответы на обучающей выборке меняются слишком резко, перескакивая через минимум. \n",
        "\n",
        "Попробуйте уменьшать вес перед каждым алгоритмом с каждой следующей итерацией по формуле `0.9 / (1.0 + i)`, где `i` - номер итерации (от 0 до 49). Используйте качество работы алгоритма как **ответ в пункте 3**. \n",
        "\n",
        "В реальности часто применяется следующая стратегия выбора шага: как только выбран алгоритм, подберем коэффициент перед ним численным методом оптимизации таким образом, чтобы отклонение от правильных ответов было минимальным. Мы не будем предлагать вам реализовать это для выполнения задания, но рекомендуем попробовать разобраться с такой стратегией и реализовать ее при случае для себя."
      ]
    },
    {
      "cell_type": "code",
      "metadata": {
        "id": "sUjxrqYbmYIq"
      },
      "source": [
        "basics = []\n",
        "ws = []\n",
        "test_scores = []\n",
        "train_scores = []\n",
        "y_cur = np.array(y_train)\n",
        "for i in range(50): \n",
        "    regr = tree.DecisionTreeRegressor(max_depth=5, random_state=42).fit(X_train, y_cur) \n",
        "    basics.append(regr) \n",
        "    ws.append(0.9/(1. + i)) \n",
        "    y_cur = y_train - gbm_predict(X_train) \n",
        "    test_scores.append(metrics.mean_squared_error(y_test, gbm_predict(X_test))) \n",
        "    train_scores.append(metrics.mean_squared_error(y_train, gbm_predict(X_train))) "
      ],
      "execution_count": null,
      "outputs": []
    },
    {
      "cell_type": "code",
      "metadata": {
        "id": "wPwrrMN6nHVv",
        "colab": {
          "base_uri": "https://localhost:8080/"
        },
        "outputId": "8008afcd-ef19-4cea-c3b6-6a57aa8e111e"
      },
      "source": [
        "np.sqrt(metrics.mean_squared_error(y_test, gbm_predict(X_test))) # качество работы алгоритма способом средней квадратичной ошибки на тестовой выборке "
      ],
      "execution_count": null,
      "outputs": [
        {
          "output_type": "execute_result",
          "data": {
            "text/plain": [
              "4.9688912866233235"
            ]
          },
          "metadata": {
            "tags": []
          },
          "execution_count": 64
        }
      ]
    },
    {
      "cell_type": "code",
      "metadata": {
        "id": "MmyB-36Hm-1y",
        "colab": {
          "base_uri": "https://localhost:8080/"
        },
        "outputId": "5c84110b-f4b2-4e1e-debe-88a79ee5f26d"
      },
      "source": [
        "\n",
        "np.sqrt(metrics.mean_squared_error(y_train, gbm_predict(X_train)))"
      ],
      "execution_count": null,
      "outputs": [
        {
          "output_type": "execute_result",
          "data": {
            "text/plain": [
              "1.0974978799443276"
            ]
          },
          "metadata": {
            "tags": []
          },
          "execution_count": 41
        }
      ]
    },
    {
      "cell_type": "code",
      "metadata": {
        "id": "FN2fQ8N_nE0W",
        "colab": {
          "base_uri": "https://localhost:8080/",
          "height": 312
        },
        "outputId": "f6de3357-7038-49f2-abcf-a5232d4ccdaf"
      },
      "source": [
        "plt.plot(np.arange(1, 51, 1), test_scores, color = 'r')\n",
        "plt.plot(np.arange(1, 51, 1), train_scores, color = 'b')\n",
        "plt.title('Gradient Boosting MSE')\n",
        "plt.xlabel('number of trees')\n",
        "plt.ylabel('MSE')"
      ],
      "execution_count": null,
      "outputs": [
        {
          "output_type": "execute_result",
          "data": {
            "text/plain": [
              "Text(0, 0.5, 'MSE')"
            ]
          },
          "metadata": {
            "tags": []
          },
          "execution_count": 42
        },
        {
          "output_type": "display_data",
          "data": {
            "image/png": "[encoded data removed]",
            "text/plain": [
              "<Figure size 432x288 with 1 Axes>"
            ]
          },
          "metadata": {
            "tags": [],
            "needs_background": "light"
          }
        }
      ]
    },
    {
      "cell_type": "markdown",
      "metadata": {
        "id": "loK-GVnkDRB8"
      },
      "source": [
        "## Задание 4\n",
        "\n",
        "Реализованный вами метод - градиентный бустинг над деревьями - очень популярен в машинном обучении. Он представлен как в самой библиотеке `sklearn`, так и в сторонней библиотеке `XGBoost`, которая имеет свой питоновский интерфейс. На практике `XGBoost` работает заметно лучше `GradientBoostingRegressor` из `sklearn`, но для этого задания вы можете использовать любую реализацию. \n",
        "\n",
        "Исследуйте, переобучается ли градиентный бустинг с ростом числа итераций (и подумайте, почему), а также с ростом глубины деревьев. На основе наблюдений выпишите через пробел номера правильных из приведенных ниже утверждений в порядке возрастания номера (это будет **ответ в п.4**):\n",
        "\n",
        "    1. С увеличением числа деревьев, начиная с некоторого момента, качество работы градиентного бустинга не меняется существенно.\n",
        "\n",
        "    2. С увеличением числа деревьев, начиная с некоторого момента, градиентный бустинг начинает переобучаться.\n",
        "\n",
        "    3. С ростом глубины деревьев, начиная с некоторого момента, качество работы градиентного бустинга на тестовой выборке начинает ухудшаться.\n",
        "\n",
        "    4. С ростом глубины деревьев, начиная с некоторого момента, качество работы градиентного бустинга перестает существенно изменяться"
      ]
    },
    {
      "cell_type": "code",
      "metadata": {
        "id": "nl2qG7mypPED",
        "colab": {
          "base_uri": "https://localhost:8080/"
        },
        "outputId": "5123c61d-cb6b-4f8a-b2e2-b4a7ceccfd66"
      },
      "source": [
        "from sklearn.ensemble import GradientBoostingRegressor\n",
        "%pylab inline"
      ],
      "execution_count": null,
      "outputs": [
        {
          "output_type": "stream",
          "text": [
            "Populating the interactive namespace from numpy and matplotlib\n"
          ],
          "name": "stdout"
        }
      ]
    },
    {
      "cell_type": "code",
      "metadata": {
        "id": "ZorOCxE2DRB9",
        "colab": {
          "base_uri": "https://localhost:8080/",
          "height": 666
        },
        "outputId": "89bb02ac-e2be-46ee-d4c6-6a2bbc42b153"
      },
      "source": [
        "trees = np.arange(5, 100, 5) # количество деревьев\n",
        "depths = np.arange(3, 45, 3) # глубина\n",
        "pyplot.figure(figsize=(16, 11))\n",
        "i = 1\n",
        "for d in depths:\n",
        "    scores_train = [] # оценка качества на обучающей выборке \n",
        "    scores_test = [] # оценка качества на тестовой выборке \n",
        "    for num in trees:\n",
        "        boost = GradientBoostingRegressor(n_estimators=num, max_depth=d, random_state=42).fit(X_train, y_train)\n",
        "        scores_train.append(np.sqrt(metrics.mean_squared_error(y_train, boost.predict(X_train))))\n",
        "        scores_test.append(np.sqrt(metrics.mean_squared_error(y_test, boost.predict(X_test))))\n",
        "    ax = plt.subplot(5, 5, i)\n",
        "    ax.set_title(f\"forest {d} depth\")\n",
        "    pyplot.plot(trees, scores_train, color=\"red\", label=\"train\")\n",
        "    pyplot.plot(trees, scores_test, color=\"blue\", label=\"test\")\n",
        "    pyplot.xlabel(\"trees\")\n",
        "    pyplot.ylabel(\"score\")\n",
        "    pyplot.legend()\n",
        "    i += 1"
      ],
      "execution_count": null,
      "outputs": [
        {
          "output_type": "stream",
          "text": [
            "[6.421951510593001, 5.0520316181621885, 4.505344098597725]\n",
            "[6.413626718867822, 5.064553420247694, 4.446255942581314]\n",
            "[6.545589043854998, 5.167228549710986, 4.401634931757904]\n",
            "[6.6509618238616, 5.621958998385984, 5.267937073094479]\n",
            "[6.678573480708607, 5.686689085151842, 5.317630166545417]\n",
            "[6.645888660512267, 5.673470200513083, 5.312189898808944]\n",
            "[6.645888660512267, 5.673470200513083, 5.312189898808944]\n",
            "[6.645888660512267, 5.673470200513083, 5.312189898808944]\n",
            "[6.645888660512267, 5.673470200513083, 5.312189898808944]\n",
            "[6.645888660512267, 5.673470200513083, 5.312189898808944]\n",
            "[6.645888660512267, 5.673470200513083, 5.312189898808944]\n",
            "[6.645888660512267, 5.673470200513083, 5.312189898808944]\n",
            "[6.645888660512267, 5.673470200513083, 5.312189898808944]\n",
            "[6.645888660512267, 5.673470200513083, 5.312189898808944]\n"
          ],
          "name": "stdout"
        },
        {
          "output_type": "display_data",
          "data": {
            "image/png": "[encoded data removed]",
            "text/plain": [
              "<Figure size 1152x792 with 14 Axes>"
            ]
          },
          "metadata": {
            "tags": [],
            "needs_background": "light"
          }
        }
      ]
    },
    {
      "cell_type": "code",
      "metadata": {
        "id": "-IjR6d7swi9K",
        "colab": {
          "base_uri": "https://localhost:8080/",
          "height": 296
        },
        "outputId": "bcb363e0-c9ec-4438-e13f-e9a483cdefb8"
      },
      "source": [
        "# отдельный график для зависимости глубины деревьев от ошибки\n",
        "depths = np.arange(1, 50, 1)\n",
        "scores_train = []\n",
        "scores_test = []\n",
        "for d in depths:\n",
        "    boost = GradientBoostingRegressor(max_depth=d, random_state=42).fit(X_train, y_train)\n",
        "    scores_train.append(np.sqrt(metrics.mean_squared_error(y_train, boost.predict(X_train))))\n",
        "    scores_test.append(np.sqrt(metrics.mean_squared_error(y_test, boost.predict(X_test))))\n",
        "\n",
        "\n",
        "\n",
        "pyplot.plot(depths, scores_train, color=\"red\", label=\"train\")\n",
        "pyplot.plot(depths, scores_test, color=\"blue\", label=\"test\")\n",
        "pyplot.xlabel(\"depths\")\n",
        "pyplot.ylabel(\"score\")\n",
        "pyplot.legend()\n"
      ],
      "execution_count": null,
      "outputs": [
        {
          "output_type": "execute_result",
          "data": {
            "text/plain": [
              "<matplotlib.legend.Legend at 0x7faa83ef7eb8>"
            ]
          },
          "metadata": {
            "tags": []
          },
          "execution_count": 51
        },
        {
          "output_type": "display_data",
          "data": {
            "image/png": "[encoded data removed]",
            "text/plain": [
              "<Figure size 432x288 with 1 Axes>"
            ]
          },
          "metadata": {
            "tags": [],
            "needs_background": "light"
          }
        }
      ]
    },
    {
      "cell_type": "markdown",
      "metadata": {
        "id": "Ee20gcPbDRCA"
      },
      "source": [
        "## Задание 5\n",
        "\n",
        "Сравните получаемое с помощью градиентного бустинга качество с качеством работы линейной регрессии. \n",
        "\n",
        "Для этого обучите `LinearRegression` из `sklearn.linear_model` (с параметрами по умолчанию) на обучающей выборке и оцените для прогнозов полученного алгоритма на тестовой выборке `RMSE`. Полученное качество - ответ в **пункте 5**. \n",
        "\n",
        "В данном примере качество работы простой модели должно было оказаться хуже, но не стоит забывать, что так бывает не всегда. В заданиях к этому курсу вы еще встретите пример обратной ситуации."
      ]
    },
    {
      "cell_type": "code",
      "metadata": {
        "id": "TRgrXINODRCB"
      },
      "source": [
        "from sklearn.linear_model import LinearRegression"
      ],
      "execution_count": null,
      "outputs": []
    },
    {
      "cell_type": "code",
      "metadata": {
        "id": "qDuvgYqlzNsO",
        "colab": {
          "base_uri": "https://localhost:8080/"
        },
        "outputId": "9f2c75e7-f419-46e7-c0d2-12dd32fd87e9"
      },
      "source": [
        "linear_regressor = LinearRegression()\n",
        "linear_regressor.fit(X_train, y_train)"
      ],
      "execution_count": null,
      "outputs": [
        {
          "output_type": "execute_result",
          "data": {
            "text/plain": [
              "LinearRegression(copy_X=True, fit_intercept=True, n_jobs=None, normalize=False)"
            ]
          },
          "metadata": {
            "tags": []
          },
          "execution_count": 61
        }
      ]
    },
    {
      "cell_type": "code",
      "metadata": {
        "id": "vtzV_nwm1e8R"
      },
      "source": [
        "scores_test = np.sqrt(metrics.mean_squared_error(y_test, linear_regressor.predict(X_test))) # качество работы алгоритма способом RMSE на тестовой выборке. "
      ],
      "execution_count": null,
      "outputs": []
    },
    {
      "cell_type": "code",
      "metadata": {
        "id": "pJ6rFlUl2ca2",
        "colab": {
          "base_uri": "https://localhost:8080/"
        },
        "outputId": "e96070d5-cc5c-4cc7-b242-cd4c96f6bc1e"
      },
      "source": [
        "scores_test"
      ],
      "execution_count": null,
      "outputs": [
        {
          "output_type": "execute_result",
          "data": {
            "text/plain": [
              "5.457311159564068"
            ]
          },
          "metadata": {
            "tags": []
          },
          "execution_count": 66
        }
      ]
    }
  ]
}